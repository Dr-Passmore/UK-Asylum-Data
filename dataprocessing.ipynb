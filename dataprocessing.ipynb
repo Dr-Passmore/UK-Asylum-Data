{
 "cells": [
  {
   "cell_type": "code",
   "execution_count": null,
   "metadata": {},
   "outputs": [],
   "source": [
    "import pandas as pd\n",
    "import os\n"
   ]
  },
  {
   "attachments": {},
   "cell_type": "markdown",
   "metadata": {},
   "source": [
    "Processing data from raw-data. outcome_data is from 2022 so has not been added to the data_dictionary"
   ]
  },
  {
   "cell_type": "code",
   "execution_count": null,
   "metadata": {},
   "outputs": [],
   "source": [
    "#Excel Files\n",
    "outcome_data = \"raw-data\\outcome-analysis-asylum-applications-datasets-jun-2022.xlsx\"\n",
    "asylum_applications = \"raw-data\\\\asylum-applications-datasets-mar-2023.xlsx\"\n",
    "asylum_applications_awaiting_decision = \"raw-data\\\\asylum-applications-awaiting-decision-datasets-mar-2023.xlsx\"\n",
    "\n",
    "#Sheets\n",
    "asylum_applications_sheet = 'Data - Asy_D01'\n",
    "asylum_applications_decisions_sheet = 'Data - Asy_D02'\n",
    "asylum_applications_awaiting_sheet = 'Data - Asy_D03'\n",
    "\n",
    "data_dictionary = {\n",
    "    asylum_applications: [asylum_applications_sheet, asylum_applications_decisions_sheet], \n",
    "    asylum_applications_awaiting_decision: [asylum_applications_awaiting_sheet]\n",
    "    }\n",
    "\n"
   ]
  },
  {
   "attachments": {},
   "cell_type": "markdown",
   "metadata": {},
   "source": [
    "Covert sheets to Dataframes. Dateframes are saved in processed-data as CSV files"
   ]
  },
  {
   "cell_type": "code",
   "execution_count": null,
   "metadata": {},
   "outputs": [],
   "source": [
    "skip_rows = 1\n",
    "if not os.path.exists(\"processed-data\"):\n",
    "    os.makedirs(\"processed-data\")\n",
    "\n",
    "for file_path, sheets in data_dictionary.items():\n",
    "    for sheet_name in sheets:\n",
    "        df = pd.read_excel(file_path, sheet_name=sheet_name, skiprows=skip_rows)\n",
    "        print(f\"DataFrame from {sheet_name} in {file_path}:\")\n",
    "        print(df)\n",
    "        print(\"===================================\")\n",
    "        print(df.columns)\n",
    "        print(\"===================================\")\n",
    "        csv_file_name = f\"processed-data/{sheet_name}_output.csv\"\n",
    "        df.to_csv(csv_file_name, index=False)  "
   ]
  }
 ],
 "metadata": {
  "kernelspec": {
   "display_name": "Python 3",
   "language": "python",
   "name": "python3"
  },
  "language_info": {
   "codemirror_mode": {
    "name": "ipython",
    "version": 3
   },
   "file_extension": ".py",
   "mimetype": "text/x-python",
   "name": "python",
   "nbconvert_exporter": "python",
   "pygments_lexer": "ipython3",
   "version": "3.8.10"
  },
  "orig_nbformat": 4
 },
 "nbformat": 4,
 "nbformat_minor": 2
}
